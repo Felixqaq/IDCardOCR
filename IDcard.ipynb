{
 "cells": [
  {
   "cell_type": "code",
   "execution_count": null,
   "metadata": {},
   "outputs": [],
   "source": [
    "from IDCardProcessor import IDCardProcessor\n",
    "\n",
    "processor = IDCardProcessor('IDback.jpg')\n",
    "processor.process_image()\n",
    "processor = IDCardProcessor('1.jpeg')\n",
    "processor.process_image()\n",
    "processor = IDCardProcessor('2.jpg')\n",
    "processor.process_image()\n",
    "processor = IDCardProcessor('3.jpg')\n",
    "processor.process_image()"
   ]
  },
  {
   "cell_type": "code",
   "execution_count": 5,
   "metadata": {},
   "outputs": [
    {
     "name": "stdout",
     "output_type": "stream",
     "text": [
      "[2024/11/12 23:38:56] ppocr DEBUG: Namespace(help='==SUPPRESS==', use_gpu=True, use_xpu=False, use_npu=False, use_mlu=False, ir_optim=True, use_tensorrt=False, min_subgraph_size=15, precision='fp32', gpu_mem=500, gpu_id=0, image_dir=None, page_num=0, det_algorithm='DB', det_model_dir='C:\\\\Users\\\\Felix/.paddleocr/whl\\\\det\\\\ch\\\\ch_PP-OCRv4_det_infer', det_limit_side_len=960, det_limit_type='max', det_box_type='quad', det_db_thresh=0.3, det_db_box_thresh=0.6, det_db_unclip_ratio=1.5, max_batch_size=10, use_dilation=False, det_db_score_mode='fast', det_east_score_thresh=0.8, det_east_cover_thresh=0.1, det_east_nms_thresh=0.2, det_sast_score_thresh=0.5, det_sast_nms_thresh=0.2, det_pse_thresh=0, det_pse_box_thresh=0.85, det_pse_min_area=16, det_pse_scale=1, scales=[8, 16, 32], alpha=1.0, beta=1.0, fourier_degree=5, rec_algorithm='SVTR_LCNet', rec_model_dir='C:\\\\Users\\\\Felix/.paddleocr/whl\\\\rec\\\\ch\\\\ch_PP-OCRv4_rec_infer', rec_image_inverse=True, rec_image_shape='3, 48, 320', rec_batch_num=6, max_text_length=25, rec_char_dict_path='d:\\\\anaconda\\\\lib\\\\site-packages\\\\paddleocr\\\\ppocr\\\\utils\\\\ppocr_keys_v1.txt', use_space_char=True, vis_font_path='./doc/fonts/simfang.ttf', drop_score=0.5, e2e_algorithm='PGNet', e2e_model_dir=None, e2e_limit_side_len=768, e2e_limit_type='max', e2e_pgnet_score_thresh=0.5, e2e_char_dict_path='./ppocr/utils/ic15_dict.txt', e2e_pgnet_valid_set='totaltext', e2e_pgnet_mode='fast', use_angle_cls=True, cls_model_dir='C:\\\\Users\\\\Felix/.paddleocr/whl\\\\cls\\\\ch_ppocr_mobile_v2.0_cls_infer', cls_image_shape='3, 48, 192', label_list=['0', '180'], cls_batch_num=6, cls_thresh=0.9, enable_mkldnn=False, cpu_threads=10, use_pdserving=False, warmup=False, sr_model_dir=None, sr_image_shape='3, 32, 128', sr_batch_num=1, draw_img_save_dir='./inference_results', save_crop_res=False, crop_res_save_dir='./output', use_mp=False, total_process_num=1, process_id=0, benchmark=False, save_log_path='./log_output/', show_log=True, use_onnx=False, return_word_box=False, output='./output', table_max_len=488, table_algorithm='TableAttn', table_model_dir=None, merge_no_span_structure=True, table_char_dict_path=None, formula_algorithm='LaTeXOCR', formula_model_dir=None, formula_char_dict_path=None, formula_batch_num=1, layout_model_dir=None, layout_dict_path=None, layout_score_threshold=0.5, layout_nms_threshold=0.5, kie_algorithm='LayoutXLM', ser_model_dir=None, re_model_dir=None, use_visual_backbone=True, ser_dict_path='../train_data/XFUND/class_list_xfun.txt', ocr_order_method=None, mode='structure', image_orientation=False, layout=True, table=True, formula=False, ocr=True, recovery=False, recovery_to_markdown=False, use_pdf2docx_api=False, invert=False, binarize=False, alphacolor=(255, 255, 255), lang='ch', det=True, rec=True, type='ocr', savefile=False, ocr_version='PP-OCRv4', structure_version='PP-StructureV2')\n",
      "[2024/11/12 23:38:56] ppocr WARNING: The first GPU is used for inference by default, GPU ID: 0\n",
      "[2024/11/12 23:38:58] ppocr WARNING: The first GPU is used for inference by default, GPU ID: 0\n",
      "[2024/11/12 23:39:01] ppocr WARNING: The first GPU is used for inference by default, GPU ID: 0\n",
      "[2024/11/12 23:39:02] ppocr DEBUG: dt_boxes num : 11, elapsed : 0.17478346824645996\n",
      "[2024/11/12 23:39:02] ppocr DEBUG: cls num  : 11, elapsed : 0.03557634353637695\n",
      "[2024/11/12 23:39:02] ppocr DEBUG: rec_res num  : 11, elapsed : 0.07551312446594238\n",
      "[[[[[110.0, 113.0], [381.0, 145.0], [371.0, 223.0], [101.0, 191.0]], ('父', 0.8836624026298523)], [[[334.0, 133.0], [1024.0, 110.0], [1028.0, 237.0], [338.0, 261.0]], ('張家儒母', 0.9144183397293091)], [[[1185.0, 144.0], [1736.0, 151.0], [1735.0, 249.0], [1184.0, 242.0]], ('鄭軒宇', 0.9589874744415283)], [[[97.0, 288.0], [316.0, 288.0], [316.0, 377.0], [97.0, 377.0]], ('配偶', 0.9923516511917114)], [[[926.0, 285.0], [1146.0, 293.0], [1143.0, 384.0], [923.0, 376.0]], ('役别', 0.9578735828399658)], [[[99.0, 453.0], [310.0, 453.0], [310.0, 535.0], [99.0, 535.0]], ('出生地', 0.9974741339683533)], [[[362.0, 477.0], [947.0, 484.0], [946.0, 583.0], [361.0, 576.0]], ('臺灣省臺北縣', 0.8432817459106445)], [[[99.0, 648.0], [314.0, 648.0], [314.0, 737.0], [99.0, 737.0]], ('住址', 0.9957345128059387)], [[[358.0, 652.0], [1197.0, 656.0], [1196.0, 718.0], [357.0, 714.0]], ('新北市新莊區中信里4', 0.932158350944519)], [[[362.0, 734.0], [980.0, 739.0], [979.0, 803.0], [362.0, 798.0]], ('中信街72六楼之6', 0.9825684428215027)], [[[1244.0, 1058.0], [1825.0, 1058.0], [1825.0, 1134.0], [1244.0, 1134.0]], ('0024875515', 0.9972902536392212)]]]\n",
      "[[[110.0, 113.0], [381.0, 145.0], [371.0, 223.0], [101.0, 191.0]], ('父', 0.8836624026298523)]\n",
      "[[[334.0, 133.0], [1024.0, 110.0], [1028.0, 237.0], [338.0, 261.0]], ('張家儒母', 0.9144183397293091)]\n",
      "[[[1185.0, 144.0], [1736.0, 151.0], [1735.0, 249.0], [1184.0, 242.0]], ('鄭軒宇', 0.9589874744415283)]\n",
      "[[[97.0, 288.0], [316.0, 288.0], [316.0, 377.0], [97.0, 377.0]], ('配偶', 0.9923516511917114)]\n",
      "[[[926.0, 285.0], [1146.0, 293.0], [1143.0, 384.0], [923.0, 376.0]], ('役别', 0.9578735828399658)]\n",
      "[[[99.0, 453.0], [310.0, 453.0], [310.0, 535.0], [99.0, 535.0]], ('出生地', 0.9974741339683533)]\n",
      "[[[362.0, 477.0], [947.0, 484.0], [946.0, 583.0], [361.0, 576.0]], ('臺灣省臺北縣', 0.8432817459106445)]\n",
      "[[[99.0, 648.0], [314.0, 648.0], [314.0, 737.0], [99.0, 737.0]], ('住址', 0.9957345128059387)]\n",
      "[[[358.0, 652.0], [1197.0, 656.0], [1196.0, 718.0], [357.0, 714.0]], ('新北市新莊區中信里4', 0.932158350944519)]\n",
      "[[[362.0, 734.0], [980.0, 739.0], [979.0, 803.0], [362.0, 798.0]], ('中信街72六楼之6', 0.9825684428215027)]\n",
      "[[[1244.0, 1058.0], [1825.0, 1058.0], [1825.0, 1134.0], [1244.0, 1134.0]], ('0024875515', 0.9972902536392212)]\n",
      "新北市新莊區中信裡4中信街72六樓之6\n"
     ]
    }
   ],
   "source": [
    "from paddleocr import PaddleOCR, draw_ocr\n",
    "from ImageProcessor import ImageProcessor\n",
    "from PIL import Image\n",
    "\n",
    "def fetch_left_text(line, res):\n",
    "    right_top = [line[0][1][0]+5, line[0][1][1]-20]\n",
    "    right_bottom = [line[0][2][0]+5, line[0][2][1]+50]\n",
    "    address = []\n",
    "    for temp in res:\n",
    "        if temp[0][0][0] > right_top[0] and temp[0][0][1] > right_top[1] and temp[0][0][1] < right_bottom[1]:\n",
    "            address.append(temp)\n",
    "    return address\n",
    "\n",
    "def list_to_str(list):\n",
    "    str = ''\n",
    "    for item in list:\n",
    "        str += item[1][0]\n",
    "    return str\n",
    "\n",
    "def sim_to_tra(text):\n",
    "    from opencc import OpenCC\n",
    "    cc = OpenCC('s2tw')\n",
    "    return cc.convert(text)\n",
    "\n",
    "# 設置字體路徑（例如 Windows 下的 SimSun 字體）\n",
    "font_path = \".\\font\\simsun.ttc\"\n",
    "\n",
    "# 初始化 OCR 模型\n",
    "# ocr = PaddleOCR(use_angle_cls=True, lang=\"chinese_cht\")  # 加載模型\n",
    "ocr = PaddleOCR(use_angle_cls=True, lang=\"ch\")  # 加載模型\n",
    "# 載入圖片並進行 OCR\n",
    "img_path = '.\\pic\\IDback.jpg'\n",
    "ImageProcessor(img_path).correct_image_orientation()\n",
    "result = ocr.ocr(img_path, cls=True)\n",
    "\n",
    "print(result)\n",
    "# 打印 OCR 結果\n",
    "for idx in range(len(result)):\n",
    "    res = result[idx]\n",
    "    for line in res:\n",
    "        print(line)\n",
    "        if line[1][0] == '住址':\n",
    "            address = fetch_left_text(line, res)\n",
    "\n",
    "str_address = list_to_str(address)\n",
    "str_address = sim_to_tra(str_address)\n",
    "print(str_address)\n",
    "# 顯示結果並繪製文字框\n",
    "result = result[0]\n",
    "image = Image.open(img_path).convert('RGB')\n",
    "boxes = [line[0] for line in result]\n",
    "txts = [line[1][0] for line in result]\n",
    "scores = [line[1][1] for line in result]\n",
    "im_show = draw_ocr(image, boxes, txts, scores, font_path=font_path)\n",
    "im_show = Image.fromarray(im_show)\n",
    "im_show.save('result.jpg')"
   ]
  }
 ],
 "metadata": {
  "kernelspec": {
   "display_name": "base",
   "language": "python",
   "name": "python3"
  },
  "language_info": {
   "codemirror_mode": {
    "name": "ipython",
    "version": 3
   },
   "file_extension": ".py",
   "mimetype": "text/x-python",
   "name": "python",
   "nbconvert_exporter": "python",
   "pygments_lexer": "ipython3",
   "version": "3.10.9"
  }
 },
 "nbformat": 4,
 "nbformat_minor": 2
}
