{
 "cells": [
  {
   "cell_type": "code",
   "execution_count": null,
   "metadata": {},
   "outputs": [],
   "source": [
    "from IDCardProcessor import IDCardProcessor\n",
    "\n",
    "processor = IDCardProcessor('IDback.jpg')\n",
    "processor.process_image()\n",
    "processor = IDCardProcessor('1.jpeg')\n",
    "processor.process_image()\n",
    "processor = IDCardProcessor('2.jpg')\n",
    "processor.process_image()\n",
    "processor = IDCardProcessor('3.jpg')\n",
    "processor.process_image()"
   ]
  },
  {
   "cell_type": "code",
   "execution_count": null,
   "metadata": {},
   "outputs": [],
   "source": [
    "from paddleocr import PaddleOCR, draw_ocr\n",
    "from ImageProcessor import ImageProcessor\n",
    "from PIL import Image\n",
    "\n",
    "def fetch_left_text(line, res):\n",
    "    right_top = [line[0][1][0]+5, line[0][1][1]-20]\n",
    "    right_bottom = [line[0][2][0]+5, line[0][2][1]+50]\n",
    "    address = []\n",
    "    for temp in res:\n",
    "        if temp[0][0][0] > right_top[0] and temp[0][0][1] > right_top[1] and temp[0][0][1] < right_bottom[1]:\n",
    "            address.append(temp)\n",
    "    return address\n",
    "\n",
    "def list_to_str(list):\n",
    "    str = ''\n",
    "    for item in list:\n",
    "        str += item[1][0]\n",
    "    return str\n",
    "\n",
    "def sim_to_tra(text):\n",
    "    from opencc import OpenCC\n",
    "    cc = OpenCC('s2tw')\n",
    "    return cc.convert(text)\n",
    "\n",
    "# 設置字體路徑（例如 Windows 下的 SimSun 字體）\n",
    "font_path = \"C:\\Windows\\Fonts\\simsun.ttc\"\n",
    "\n",
    "# 初始化 OCR 模型\n",
    "ocr = PaddleOCR(use_angle_cls=True, lang=\"chinese_cht\")  # 加載模型\n",
    "# ocr = PaddleOCR(use_angle_cls=True, lang=\"ch\")  # 加載模型\n",
    "# 載入圖片並進行 OCR\n",
    "img_path = 'IDback.jpg'\n",
    "ImageProcessor(img_path).correct_image_orientation()\n",
    "img_path = 'corrected_orientation_image.jpg'\n",
    "result = ocr.ocr(img_path, cls=True)\n",
    "\n",
    "\n",
    "# 打印 OCR 結果\n",
    "for idx in range(len(result)):\n",
    "    res = result[idx]\n",
    "    for line in res:\n",
    "        print(line)\n",
    "        if line[1][0] == '住址':\n",
    "            address = fetch_left_text(line, res)\n",
    "\n",
    "str_address = list_to_str(address)\n",
    "str_address = sim_to_tra(str_address)\n",
    "print(str_address)\n",
    "# 顯示結果並繪製文字框\n",
    "result = result[0]\n",
    "image = Image.open(img_path).convert('RGB')\n",
    "boxes = [line[0] for line in result]\n",
    "txts = [line[1][0] for line in result]\n",
    "scores = [line[1][1] for line in result]\n",
    "im_show = draw_ocr(image, boxes, txts, scores, font_path=font_path)\n",
    "im_show = Image.fromarray(im_show)\n",
    "im_show.save('result.jpg')"
   ]
  }
 ],
 "metadata": {
  "kernelspec": {
   "display_name": "base",
   "language": "python",
   "name": "python3"
  },
  "language_info": {
   "codemirror_mode": {
    "name": "ipython",
    "version": 3
   },
   "file_extension": ".py",
   "mimetype": "text/x-python",
   "name": "python",
   "nbconvert_exporter": "python",
   "pygments_lexer": "ipython3",
   "version": "3.10.9"
  }
 },
 "nbformat": 4,
 "nbformat_minor": 2
}
